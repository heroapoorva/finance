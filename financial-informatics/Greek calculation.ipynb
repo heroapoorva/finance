{
 "cells": [
  {
   "cell_type": "code",
   "execution_count": 2,
   "metadata": {},
   "outputs": [],
   "source": [
    "import numpy as np\n",
    "def binomial(spot=100,strike=120,sigma=0.3,r=0.03,t=1,steps=1000):\n",
    "    #Instead of actually making a tree using node structure, using an array of arrays\n",
    "    #First array will have 1 element, second will have 2, third will have 3 and so on.\n",
    "    #Store such a tree for the stock price as well as the option value.\n",
    "    u=np.exp(sigma*np.sqrt(t/steps))\n",
    "    d=np.exp(-sigma*np.sqrt(t/steps))\n",
    "    p=(np.exp(r*(t/steps))-d)/(u-d)\n",
    "    stock_tree=[]\n",
    "    option_tree=[]\n",
    "    #stock price tree construction\n",
    "    #add the spot value of the stock\n",
    "    stock_tree.append([spot])\n",
    "    #calculating the rest of the sport values.\n",
    "    #1000 steps means 1001 days.\n",
    "    for i in range(1,steps+1):\n",
    "        to_append=[]\n",
    "        for j in range(len(stock_tree[i-1])):\n",
    "            to_append.append(stock_tree[i-1][j]*u)\n",
    "        to_append.append(stock_tree[i-1][-1]*d)\n",
    "        stock_tree.append(to_append)\n",
    "    #option value tree construction, but this is a bottom up approach, so we start from the future.\n",
    "    #initially just make all elements 0.\n",
    "    for i in range(steps+1):\n",
    "        to_append=[]\n",
    "        for j in range(i+1):\n",
    "            to_append.append(0)\n",
    "        option_tree.append(to_append)\n",
    "    #first modify the option value at the last day\n",
    "    for i in range(len(option_tree[-1])):\n",
    "        #It is a call option\n",
    "        option_tree[-1][i]=max(stock_tree[-1][i]-strike,0)\n",
    "    #Now we use these to calulate rest of the option values\n",
    "    c=np.exp(-r*(t/steps))\n",
    "    for i in range(steps):\n",
    "        for j in range(len(option_tree[steps-(i+1)])):\n",
    "             option_tree[steps-(i+1)][j]=c*((p*option_tree[steps-i][j])+((1-p)*option_tree[steps-i][j+1]))\n",
    "    return(option_tree[0][0])"
   ]
  },
  {
   "cell_type": "code",
   "execution_count": 21,
   "metadata": {},
   "outputs": [],
   "source": [
    "price=[[],[],[]]\n",
    "#Select a shock level\n",
    "shock=0.1\n",
    "for i in range(50, 160, 10):\n",
    "    # we calculate option price for stock price of 50,60,...150\n",
    "    price[0].append(binomial(spot=i))\n",
    "    #print(price[0][-1])\n",
    "    # we calculate option price for stock price of 50+shock,60+shock,...150+shock, helps for delta\n",
    "    price[1].append(binomial(spot=i+shock))\n",
    "    #print(price[1][-1])\n",
    "    # we calculate option price for stock price of 50+shock*2,60+shock*2,...150+shock*2, helps for gamma\n",
    "    price[2].append(binomial(spot=i+shock+shock))\n",
    "    #print(price[2][-1])"
   ]
  },
  {
   "cell_type": "code",
   "execution_count": 24,
   "metadata": {},
   "outputs": [
    {
     "name": "stdout",
     "output_type": "stream",
     "text": [
      "0.003541333969410594\n",
      "0.01972998763277653\n",
      "0.06022935001842533\n",
      "0.13352992863717938\n",
      "0.2326139209922351\n",
      "0.36288831354718276\n",
      "0.4862296368785479\n",
      "0.6109065409726\n",
      "0.7035524040569285\n",
      "0.784538841944169\n",
      "0.8358021166514362\n",
      "_#_#_#_#_#_#_#_#_#_#_#_#_#_#_#_#_#_#_#_#_#_#_#_\n",
      "0.0048280111079865295\n",
      "-2.6367796834847468e-14\n",
      "-7.605027718682322e-13\n",
      "1.7541523789077473e-12\n",
      "-2.4868995751603507e-12\n",
      "1.1191048088221578e-11\n",
      "-5.5067062021407764e-12\n",
      "-1.1191048088221578e-11\n",
      "4.263256414560601e-12\n",
      "-5.2224891078367364e-11\n",
      "6.892264536872972e-11\n"
     ]
    }
   ],
   "source": [
    "#Use the binomial model you built in the previous assignment, to calculate various Greeks (Delta, Vega, Gamma, and Theta)\n",
    "#For Delta and Gamma use Stock price in the range of 50 to 150 at $10 increments\n",
    "# every time change in stock price is 0.001\n",
    "delta=[[],[]]\n",
    "for i in range(len(price[0])):\n",
    "    #find delta at 50,60,...,150 \n",
    "    delta[0].append((price[1][i]-price[0][i])/shock)\n",
    "    print(delta[0][-1])\n",
    "    \n",
    "    #find delta at 50+shock,60+shock,...,150+shock\n",
    "    delta[1].append((price[2][i]-price[1][i])/shock)\n",
    "    #print(delta[1][-1])\n",
    "\n",
    "print(\"_#_#_#_#_#_#_#_#_#_#_#_#_#_#_#_#_#_#_#_#_#_#_#_\")\n",
    "\n",
    "gamma=[]\n",
    "for i in range(len(delta[0])):\n",
    "    gamma.append((delta[1][i]-delta[0][i])/shock)\n",
    "    print(gamma[-1])"
   ]
  },
  {
   "cell_type": "code",
   "execution_count": 25,
   "metadata": {},
   "outputs": [
    {
     "name": "stdout",
     "output_type": "stream",
     "text": [
      "0.0017199418835851632\n",
      "0.0017622341290281244\n",
      "0.2991520320509176\n",
      "0.3005498750885952\n",
      "1.3066691417053033\n",
      "1.3091772076822594\n",
      "2.7674252068670677\n",
      "2.77061492296685\n",
      "4.464940095517142\n",
      "4.468493836959519\n",
      "6.292242602076462\n",
      "6.296001188003746\n",
      "8.19335778023337\n",
      "8.197181374289313\n",
      "10.139949119031057\n",
      "10.143841038726796\n",
      "12.116005240570207\n",
      "12.119960310169619\n",
      "14.101560853727687\n",
      "14.105569101295163\n"
     ]
    }
   ],
   "source": [
    "#first calculate the option price for the change in volatility\n",
    "price=[[],[]]\n",
    "#adjst shock level\n",
    "shock=0.01\n",
    "for i in range(5, 55, 5):\n",
    "    #price at volatility 5%,10%,...,50%\n",
    "    price[0].append(binomial(sigma=i/100))\n",
    "    #print(price[0][-1])\n",
    "    \n",
    "    #price at volatility 5%+shock,10%+shock,...,50%+shock\n",
    "    price[1].append(binomial(sigma=(i+shock)/100))\n",
    "    #print(price[1][-1])"
   ]
  },
  {
   "cell_type": "code",
   "execution_count": 26,
   "metadata": {},
   "outputs": [
    {
     "name": "stdout",
     "output_type": "stream",
     "text": [
      "0.004229224544296129\n",
      "0.1397843037677593\n",
      "0.25080659769560754\n",
      "0.3189716099782469\n",
      "0.35537414423769675\n",
      "0.3758585927283953\n",
      "0.38235940559427917\n",
      "0.3891919695739432\n",
      "0.3955069599411942\n",
      "0.40082475674765305\n"
     ]
    }
   ],
   "source": [
    "#For Vega: change Vol from 5% to 50% at 5% increments\n",
    "vega=[]\n",
    "for i in range(len(price[0])):\n",
    "    vega.append((price[1][i]-price[0][i])/shock)\n",
    "    print(vega[-1])"
   ]
  },
  {
   "cell_type": "code",
   "execution_count": 28,
   "metadata": {},
   "outputs": [
    {
     "name": "stdout",
     "output_type": "stream",
     "text": [
      "0.06525120289175952\n",
      "0.06546849754261476\n",
      "0.44078768080521985\n",
      "0.44127589000705997\n",
      "0.9833535294501717\n",
      "0.9839239523598158\n",
      "1.5849771967206894\n",
      "1.5855960024219702\n",
      "2.2010788676351094\n",
      "2.2017107941736604\n",
      "2.8195901047264806\n",
      "2.820206344814636\n",
      "3.4284854927259785\n",
      "3.429091208766755\n",
      "4.025080878655411\n",
      "4.025679021278128\n",
      "4.608553442151794\n",
      "4.609123037685039\n",
      "5.184207520209151\n",
      "5.184774338855035\n",
      "5.739820712270716\n",
      "5.740365605054583\n",
      "6.292242602076462\n",
      "6.2927867600274645\n"
     ]
    }
   ],
   "source": [
    "#first calculate the option price for the change in time to maturity, while keeping the number of steps 1000.\n",
    "price=[[],[]]\n",
    "#adjust shock level\n",
    "shock=0.001\n",
    "for i in range(1, 13):\n",
    "    #price for time period of 1 month, 2 months,...,12 months\n",
    "    price[0].append(binomial(t=i/12))\n",
    "    #print(price[0][-1])\n",
    "    \n",
    "    #price for time period of 1+1/1000th month, 2+1/1000th month,...,12 + 1/10th month\n",
    "    price[1].append(binomial(t=(i+shock)/12))\n",
    "    #print(price[1][-1])"
   ]
  },
  {
   "cell_type": "code",
   "execution_count": 30,
   "metadata": {},
   "outputs": [
    {
     "name": "stdout",
     "output_type": "stream",
     "text": [
      "0.21729465085523758\n",
      "0.4882092018401174\n",
      "0.5704229096440416\n",
      "0.6188057012808112\n",
      "0.631926538551042\n",
      "0.6162400881555286\n",
      "0.6057160407766382\n",
      "0.5981426227172904\n",
      "0.5695955332454261\n",
      "0.5668186458835933\n",
      "0.5448927838669348\n",
      "0.5441579510021555\n"
     ]
    }
   ],
   "source": [
    "#For Theta: Change time to maturity in monthly decrements.\n",
    "theta=[]\n",
    "for i in range(len(price[0])):\n",
    "    theta.append((price[1][i]-price[0][i])/shock)\n",
    "    print(theta[-1])"
   ]
  },
  {
   "cell_type": "code",
   "execution_count": null,
   "metadata": {},
   "outputs": [],
   "source": []
  }
 ],
 "metadata": {
  "kernelspec": {
   "display_name": "Python 3",
   "language": "python",
   "name": "python3"
  },
  "language_info": {
   "codemirror_mode": {
    "name": "ipython",
    "version": 3
   },
   "file_extension": ".py",
   "mimetype": "text/x-python",
   "name": "python",
   "nbconvert_exporter": "python",
   "pygments_lexer": "ipython3",
   "version": "3.7.1"
  }
 },
 "nbformat": 4,
 "nbformat_minor": 2
}
