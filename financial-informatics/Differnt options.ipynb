{
 "cells": [
  {
   "cell_type": "code",
   "execution_count": 38,
   "metadata": {},
   "outputs": [
    {
     "name": "stdout",
     "output_type": "stream",
     "text": [
      "0.24997157293958566\n",
      "6.292242602077187\n",
      "6.292435651581147\n",
      "6.292242602077187\n"
     ]
    }
   ],
   "source": [
    "import numpy as np\n",
    "def binomial(type_of_option,payoff,spot=100,strike=120,sigma=0.3,r=0.03,t=1,steps=1000):\n",
    "    #Instead of actually making a tree using node structure, using an array of arrays\n",
    "    #First array will have 1 element, second will have 2, third will have 3 and so on.\n",
    "    #Store such a tree for the stock price as well as the option value.\n",
    "    u=np.exp(sigma*np.sqrt(t/steps))\n",
    "    d=np.exp(-sigma*np.sqrt(t/steps))\n",
    "    p=(np.exp(r*(t/steps))-d)/(u-d)\n",
    "    stock_tree=[]\n",
    "    option_tree=[]\n",
    "    #stock price tree construction\n",
    "    #add the spot value of the stock\n",
    "    stock_tree.append([spot])\n",
    "    #calculating the rest of the sport values.\n",
    "    #1000 steps means 1001 days.\n",
    "    for i in range(1,steps+1):\n",
    "        to_append=[]\n",
    "        for j in range(len(stock_tree[i-1])):\n",
    "            #some nice precision, to do a bit better can use a different(longer) method to creat the tree.\n",
    "            #useful modification for digital option\n",
    "            if(i%2==0 and j==int(len(stock_tree[i-1])/2)):\n",
    "                to_append.append(spot)\n",
    "            else:\n",
    "                to_append.append(stock_tree[i-1][j]*u)\n",
    "        to_append.append(stock_tree[i-1][-1]*d)\n",
    "        stock_tree.append(to_append)\n",
    "    #One may argue why construct the tree when a general formula for term is readily available\n",
    "    #More efficient time wise to calculate the tree\n",
    "    #option value tree construction, but this is a bottom up approach, so we start from the future.\n",
    "    #initially just make all elements 0.\n",
    "    for i in range(steps+1):\n",
    "        to_append=[]\n",
    "        for j in range(i+1):\n",
    "            to_append.append(0)\n",
    "        option_tree.append(to_append)\n",
    "    #Regardless of option type and payoff type the above is needed.\n",
    "    #first modify the option value at the last day\n",
    "    for i in range(len(option_tree[-1])):\n",
    "        #It is a call option\n",
    "        #Payoff depends whether it is digital or not\n",
    "        if(payoff==\"digital\"):\n",
    "            if(stock_tree[-1][i]>strike):\n",
    "                option_tree[-1][i]=1\n",
    "            else:\n",
    "                option_tree[-1][i]=0\n",
    "        else:\n",
    "            option_tree[-1][i]=max(stock_tree[-1][i]-strike,0)\n",
    "    #Now we use these to calulate rest of the option values\n",
    "    c=np.exp(-r*(t/steps))\n",
    "    for i in range(steps):\n",
    "        for j in range(len(option_tree[steps-(i+1)])):\n",
    "            #Have to check if the option type is European or American(only 2 option types known).\n",
    "            if(type_of_option==\"European\"):\n",
    "                option_tree[steps-(i+1)][j]=c*((p*option_tree[steps-i][j])+((1-p)*option_tree[steps-i][j+1]))\n",
    "            else:\n",
    "                option_tree[steps-(i+1)][j]=max(stock_tree[steps-(i+1)][j]-strike,c*((p*option_tree[steps-i][j])+((1-p)*option_tree[steps-i][j+1])))\n",
    "    return(option_tree[0][0])\n",
    "print (binomial(type_of_option=\"European\",payoff=\"digital\") )\n",
    "print (binomial(type_of_option=\"European\",payoff=\"non-digital\") )\n",
    "print (binomial(type_of_option=\"American\",payoff=\"digital\") )\n",
    "print (binomial(type_of_option=\"American\",payoff=\"non-digital\") )"
   ]
  },
  {
   "cell_type": "code",
   "execution_count": 22,
   "metadata": {},
   "outputs": [
    {
     "data": {
      "text/plain": [
       "0.45365403361612755"
      ]
     },
     "execution_count": 22,
     "metadata": {},
     "output_type": "execute_result"
    }
   ],
   "source": []
  },
  {
   "cell_type": "code",
   "execution_count": null,
   "metadata": {},
   "outputs": [],
   "source": []
  }
 ],
 "metadata": {
  "kernelspec": {
   "display_name": "Python 3",
   "language": "python",
   "name": "python3"
  },
  "language_info": {
   "codemirror_mode": {
    "name": "ipython",
    "version": 3
   },
   "file_extension": ".py",
   "mimetype": "text/x-python",
   "name": "python",
   "nbconvert_exporter": "python",
   "pygments_lexer": "ipython3",
   "version": "3.7.1"
  }
 },
 "nbformat": 4,
 "nbformat_minor": 2
}
